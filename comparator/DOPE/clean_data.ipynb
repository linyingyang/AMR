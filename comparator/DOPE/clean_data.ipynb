{
 "cells": [
  {
   "cell_type": "code",
   "execution_count": null,
   "metadata": {},
   "outputs": [
    {
     "name": "stdout",
     "output_type": "stream",
     "text": [
      "number of people surviving  9622\n",
      "number of people not surviving  4785\n",
      "Dimensions after loading as Lundberg: (14264, 79)\n",
      "Dimensions after dropping: (14264, 64)\n",
      "shape: (14264, 65)\n",
      "treated: 0.21880257992148064\n",
      "dead: 0.3302720134604599\n"
     ]
    }
   ],
   "source": [
    "import numpy as np\n",
    "import pandas as pd\n",
    "import loadnhanes\n",
    "import argparse\n",
    "from sklearn.impute import SimpleImputer as Imputer\n",
    "\n",
    "X,y = loadnhanes._load()\n",
    "\n",
    "# clean up a bit\n",
    "for c in X.columns:\n",
    "    if c.endswith(\"_isBlank\"):\n",
    "        del X[c]   \n",
    "X[\"bmi\"] = 10000 * X[\"weight\"].values.copy() / (X[\"height\"].values.copy() * X[\"height\"].values.copy())\n",
    "X[\"bmi_binary\"]=(X['bmi'] > 30).astype(int)\n",
    "\n",
    "del X[\"bmi\"]\n",
    "del X[\"weight\"]\n",
    "del X[\"height\"]\n",
    "del X[\"urine_hematest_isTrace\"] # would have no variance in the strain set\n",
    "del X[\"SGOT_isBlankbutapplicable\"] # would have no variance in the strain set\n",
    "del X[\"calcium_isBlankbutapplicable\"] # would have no variance in the strain set\n",
    "del X[\"uric_acid_isBlankbutapplicable\"] # would only have one true value in the train set\n",
    "del X[\"urine_hematest_isVerylarge\"] # would only have one true value in the train set\n",
    "del X[\"total_bilirubin_isBlankbutapplicable\"] # would only have one true value in the train set\n",
    "del X[\"alkaline_phosphatase_isBlankbutapplicable\"] # would only have one true value in the train set\n",
    "del X[\"hemoglobin_isUnacceptable\"] # redundant with hematocrit_isUnacceptable\n",
    "rows = np.where(np.invert(np.isnan(X[\"systolic_blood_pressure\"]) | np.isnan(X[\"bmi\"])))[0]\n",
    "X = X.iloc[rows,:]\n",
    "y = y[rows]\n",
    "\n",
    "print('Dimensions after loading as Lundberg:',X.shape)\n",
    "\n",
    "\n",
    "alot_of_missing = []\n",
    "for col in X.columns:\n",
    "    if np.isnan(X[col]).mean()>0.5:\n",
    "        alot_of_missing.append(col)\n",
    "X = X.drop(alot_of_missing,axis=1)\n",
    "\n",
    "print('Dimensions after dropping:',X.shape)\n",
    "\n",
    "imp = Imputer()\n",
    "imp.fit(X)\n",
    "X_imp = imp.transform(X)\n",
    "\n",
    "X1 = pd.DataFrame(X_imp,columns=X.columns)\n",
    "df = pd.concat([X1,pd.Series(y>0,dtype=np.int8,name='death')],axis=1)\n",
    "\n",
    "\n",
    "# Define target\n",
    "sbp = 'systolic_blood_pressure'\n",
    "puls_pres = df.pop('pulse_pressure') \n",
    "df.insert(0, 'high_pulse_pressure', ((puls_pres>60)).astype(np.int16))\n",
    "\n",
    "# # Standardize\n",
    "# for col in df.columns:\n",
    "#     if len(df[col].unique())>2:\n",
    "#         df[col] = (df[col]-df[col].mean())/df[col].var()\n",
    "\n",
    "print('shape:',df.shape)\n",
    "print('treated:',df['high_pulse_pressure'].mean())\n",
    "print('dead:',df['death'].mean())\n",
    "\n",
    "\n",
    "df.to_pickle('NHANES_removed_bmi.pkl')\n",
    "\n"
   ]
  },
  {
   "cell_type": "code",
   "execution_count": 8,
   "metadata": {},
   "outputs": [
    {
     "data": {
      "text/plain": [
       "<Axes: >"
      ]
     },
     "execution_count": 8,
     "metadata": {},
     "output_type": "execute_result"
    },
    {
     "data": {
      "image/png": "[encoded data removed]",
      "text/plain": [
       "<Figure size 640x480 with 1 Axes>"
      ]
     },
     "metadata": {},
     "output_type": "display_data"
    }
   ],
   "source": [
    "df['physical_activity'].hist()"
   ]
  },
  {
   "cell_type": "code",
   "execution_count": null,
   "metadata": {},
   "outputs": [],
   "source": []
  }
 ],
 "metadata": {
  "kernelspec": {
   "display_name": "base",
   "language": "python",
   "name": "python3"
  },
  "language_info": {
   "codemirror_mode": {
    "name": "ipython",
    "version": 3
   },
   "file_extension": ".py",
   "mimetype": "text/x-python",
   "name": "python",
   "nbconvert_exporter": "python",
   "pygments_lexer": "ipython3",
   "version": "3.11.7"
  }
 },
 "nbformat": 4,
 "nbformat_minor": 2
}
