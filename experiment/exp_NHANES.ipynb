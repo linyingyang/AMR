{
 "cells": [
  {
   "cell_type": "code",
   "execution_count": 2,
   "metadata": {},
   "outputs": [],
   "source": [
    "import numpy as np\n",
    "import pandas as pd\n",
    "import contextlib\n",
    "import rpy2.robjects as robjects\n",
    "from rpy2.robjects import pandas2ri\n",
    "from rpy2.robjects.conversion import localconverter\n",
    "import io\n",
    "\n",
    "import os\n",
    "import sys\n",
    "from joblib import dump,load\n",
    "from tqdm import tqdm\n",
    "\n",
    "from experiment_utils import *\n",
    "home_dir = os.path.abspath(\"..\")  # Move up to the home directory\n",
    "sys.path.append(home_dir)\n",
    "from comparator.DOPE.estimators import *\n",
    "src_path = os.path.abspath(\"../src\")\n",
    "sys.path.append(src_path)\n",
    "from models import *\n",
    "from utils import *\n",
    "\n",
    "# Suppress R console output\n",
    "@contextlib.contextmanager\n",
    "def suppress_r_output():\n",
    "    r_output = io.StringIO()\n",
    "    with contextlib.redirect_stdout(r_output), contextlib.redirect_stderr(r_output):\n",
    "        yield\n",
    "# Suppress R console output\n",
    "\n",
    "with suppress_r_output():\n",
    "    robjects.r['source'](r'../comparator/CollaborativeLearning/models.r')\n",
    "    run_comparator = robjects.globalenv['run_comparator']"
   ]
  },
  {
   "cell_type": "code",
   "execution_count": 3,
   "metadata": {},
   "outputs": [
    {
     "data": {
      "text/plain": [
       "Index(['high_pulse_pressure', 'sex_isFemale', 'age', 'physical_activity',\n",
       "       'serum_albumin', 'alkaline_phosphatase_isUnacceptable',\n",
       "       'alkaline_phosphatase_isTestnotdone', 'SGOT_isUnacceptable',\n",
       "       'SGOT_isTestnotdone', 'BUN_isUnacceptable', 'BUN_isTestnotdone',\n",
       "       'calcium_isUnacceptable', 'calcium_isTestnotdone',\n",
       "       'creatinine_isUnacceptable', 'creatinine_isTestnotdone',\n",
       "       'potassium_isUnacceptable', 'sodium_isUnacceptable',\n",
       "       'total_bilirubin_isUnacceptable', 'total_bilirubin_isTestnotdone',\n",
       "       'serum_protein', 'red_blood_cells', 'red_blood_cells_isUnacceptable',\n",
       "       'red_blood_cells_isBlankbutapplicable', 'white_blood_cells',\n",
       "       'white_blood_cells_isUnacceptable',\n",
       "       'white_blood_cells_isBlankbutapplicable', 'hemoglobin',\n",
       "       'hemoglobin_isMissing', 'hematocrit', 'hematocrit_isUnacceptable',\n",
       "       'hematocrit_isMissing', 'platelets_isNormal', 'platelets_isIncreased',\n",
       "       'platelets_isDecreased', 'platelets_isNoestimate', 'cholesterol',\n",
       "       'cholesterol_isMissing', 'urine_albumin_isNegative',\n",
       "       'urine_albumin_is>=30', 'urine_albumin_is>=100',\n",
       "       'urine_albumin_is>=300', 'urine_albumin_is>=1000',\n",
       "       'urine_albumin_isTrace', 'urine_albumin_isBlankbutapplicable',\n",
       "       'urine_glucose_isNegative', 'urine_glucose_isLight',\n",
       "       'urine_glucose_isMedium', 'urine_glucose_isDark',\n",
       "       'urine_glucose_isVerydark', 'urine_glucose_isTrace',\n",
       "       'urine_glucose_isBlankbutapplicable', 'urine_pH',\n",
       "       'urine_pH_isBlankbutapplicable', 'urine_hematest_isNegative',\n",
       "       'urine_hematest_isSmall', 'urine_hematest_isModerate',\n",
       "       'urine_hematest_isLarge', 'urine_hematest_isBlankbutapplicable',\n",
       "       'sedimentation_rate', 'sedimentation_rate_isBlankbutapplicable',\n",
       "       'uric_acid_isUnacceptable', 'uric_acid_isTestnotdone',\n",
       "       'systolic_blood_pressure', 'bmi', 'death'],\n",
       "      dtype='object')"
      ]
     },
     "execution_count": 3,
     "metadata": {},
     "output_type": "execute_result"
    }
   ],
   "source": [
    "df=pd.read_pickle('../comparator/DOPE/NHANES_removed_original.pkl')\n",
    "df.columns"
   ]
  },
  {
   "cell_type": "code",
   "execution_count": null,
   "metadata": {},
   "outputs": [],
   "source": [
    "# drop missing values of cholesterol\n",
    "df=df[df['cholesterol_isMissing']==0]\n",
    "df=df[40<=df['age']]\n",
    "df=df[df['age']<=65]\n",
    "\n",
    "\n",
    "df=df.rename(columns={'cholesterol':'y', 'bmi_binary':'A'})\n",
    "\n",
    "df.drop(['death',\n",
    "        'cholesterol_isMissing','bmi',], axis=1, inplace=True)\n",
    "\n",
    "# Suppose df is your DataFrame\n",
    "\n",
    "# Create an empty dictionary to hold our mapping\n",
    "rename_mapping = {}\n",
    "counter = 1\n",
    "\n",
    "# Loop through the current columns\n",
    "for col in df.columns:\n",
    "    # If the column is not 'A' or 'y', add it to the mapping\n",
    "    if col not in ['A', 'y']:\n",
    "        rename_mapping[col] = f\"X{counter}\"\n",
    "        counter += 1\n",
    "\n",
    "# Rename the columns in-place\n",
    "df.rename(columns=rename_mapping, inplace=True)\n"
   ]
  },
  {
   "cell_type": "code",
   "execution_count": 14,
   "metadata": {},
   "outputs": [],
   "source": [
    "def estimation(p, df=None, ate=0, #placeholder\n",
    "                          cross_fit=True, n_folds=5, ps_model='lr',or_model='torch_nn',w_model='kernel_ridge_regression', \n",
    "                            random_seed=42, propen_est=True, mu_est=True, stds_return=True, coverage_return=False):\n",
    "\n",
    "    random.seed(random_seed)\n",
    "\n",
    "    pandas2ri.activate()\n",
    "\n",
    "    with suppress_r_output():\n",
    "        r_df = pandas2ri.py2rpy(df)\n",
    "\n",
    "    if propen_est:\n",
    "        ates, stds, df_est = single_trial(\n",
    "            true_ate=ate, df_full=df, p=p,\n",
    "            ps_model=ps_model, or_model=or_model,\n",
    "            w_model=w_model,\n",
    "            random_seed=random_seed, cross_fit=cross_fit, n_folds=n_folds, stds_return=True,coverage_return=False\n",
    "        )\n",
    "        with suppress_r_output():\n",
    "            r_df = pandas2ri.py2rpy(df_est)\n",
    "            r_result = run_comparator(df=r_df, p=p, propen_est=propen_est, mu_est=mu_est,random_seed=random_seed)\n",
    "            result = dict(zip(r_result.names, list(r_result)))\n",
    "    else:\n",
    "        with suppress_r_output():\n",
    "            r_result = run_comparator(df=r_df, p=p, propen_est=propen_est, mu_est=mu_est,random_seed=random_seed)\n",
    "            result = dict(zip(r_result.names, list(r_result)))\n",
    "\n",
    "        df['propen'] = result['pi_hat']\n",
    "        df['mu0'] = result['r0_out']\n",
    "        df['mu1'] = result['r1_out']\n",
    "\n",
    "        # Run single trial with results\n",
    "        ates, stds = single_trial(\n",
    "            true_ate=ate, df_full=df, p=p,\n",
    "            ps_model=ps_model, or_model=or_model,\n",
    "            w_model=w_model,\n",
    "            random_seed=random_seed, cross_fit=cross_fit, n_folds=n_folds, stds_return=True,coverage_return=False\n",
    "        )\n",
    "\n",
    "    # dope\n",
    "    X_cols = [f\"X{i}\" for i in range(1, p + 1)]\n",
    "    ates_dope, vars_dope = SI_IM_cf(T=df['A'].values,Y=df['y'].values, W=df[X_cols].values)\n",
    "\n",
    "    all_ate = {'true_ate':ate,\n",
    "                'ate_tmle':result['ate.tmle'][0],\n",
    "                'ate_ctmle':result['ate.ctmle'][0],\n",
    "                'ate_cbps':result['ate.cbps'][0],\n",
    "                'ate_mr':ates['ate_mr'],\n",
    "                'ate_ipw':ates['ate_ipw'],\n",
    "                'ate_amr':ates['ate_amr'],\n",
    "                'ate_aipw':ates['ate_aipw'],\n",
    "                'ate_siaipw': ates_dope[1],\n",
    "                'ate_sioapw': ates_dope[2],\n",
    "                'ate_siobpw': ates_dope[3]}\n",
    "\n",
    "    all_std = {\n",
    "                'std_tmle':result['sd.tmle'][0],\n",
    "                'std_ctmle':result['sd.ctmle'][0],\n",
    "                'std_cbps':result['sd.cbps'][0],\n",
    "                'std_mr':stds['ate_mr'],\n",
    "                'std_ipw':stds['ate_ipw'],\n",
    "                'std_amr':stds['ate_amr'],\n",
    "                'std_aipw':stds['ate_aipw'],\n",
    "                'std_siaipw':np.sqrt(vars_dope[1]),\n",
    "                'std_sioapw':np.sqrt(vars_dope[2]),\n",
    "                'std_siobpw': np.sqrt(vars_dope[3])\n",
    "                }\n",
    "    return all_ate, all_std, df_est"
   ]
  },
  {
   "cell_type": "code",
   "execution_count": null,
   "metadata": {},
   "outputs": [
    {
     "data": {
      "image/png": "[encoded data removed]",
      "text/plain": [
       "<Figure size 1000x600 with 1 Axes>"
      ]
     },
     "metadata": {},
     "output_type": "display_data"
    }
   ],
   "source": [
    "X_cols = [f\"X{i}\" for i in range(1, 61+ 1)]\n",
    "ps_model = LogisticRegression()\n",
    "ps_model.fit(df[X_cols].values, df['A'].values)\n",
    "p_train = ps_model.predict_proba(df[X_cols].values)[:, 1]\n",
    "import matplotlib.pyplot as plt\n",
    "\n",
    "plt.figure(figsize=(10, 6))\n",
    "# Plot the histogram with a fancier color (e.g., lightblue) and add a white edge to each bin\n",
    "plt.hist(p_train, bins=50, color='lightblue', edgecolor='white', density=True)\n",
    "\n",
    "# Add the x and y labels\n",
    "plt.xlabel('Estimated Propensity Score')\n",
    "plt.ylabel('Density')\n",
    "\n",
    "# Add a LaTeX-formatted title (you can also use 'coral' for a different color)\n",
    "plt.title('Density of Estimated Propensity Score, NHANES')\n",
    "\n",
    "# Set x-axis limits from 0 to 1\n",
    "plt.xlim(0, 1)\n",
    "\n",
    "# Display the plot\n",
    "plt.show()"
   ]
  },
  {
   "cell_type": "code",
   "execution_count": null,
   "metadata": {},
   "outputs": [],
   "source": []
  },
  {
   "cell_type": "code",
   "execution_count": null,
   "metadata": {},
   "outputs": [
    {
     "name": "stdout",
     "output_type": "stream",
     "text": [
      "ate:  {'true_ate': 0, 'ate_tmle': 3.410591341069221, 'ate_ctmle': 2.585917952550699, 'ate_cbps': 4.701750453319766, 'ate_mr': 4.369658190618651, 'ate_ipw': 3.8994489878182974, 'ate_amr': 3.4361822682092775, 'ate_aipw': 3.420202428352406, 'ate_siaipw': 230.03241748221572, 'ate_sioapw': 229.8759549997013, 'ate_siobpw': 229.8739293253416}\n",
      "std:  {'std_tmle': 1.7490423385661873, 'std_ctmle': 1.579939660959257, 'std_cbps': 2.181562080950062, 'std_mr': 9.185053902530791, 'std_ipw': 9.185051891220816, 'std_amr': 1.7473561200810674, 'std_aipw': 1.7473561078703308, 'std_siaipw': 220.18209447265764, 'std_sioapw': 115.652236627838, 'std_siobpw': 115.63574619230386}\n"
     ]
    }
   ],
   "source": [
    "ate_results, std_results,df_est = estimation(p=61, df=df, ate=0, #placeholder\n",
    "                          cross_fit=True, n_folds=5, ps_model='lr',or_model='torch_nn',\n",
    "                          w_model='kernel_ridge_regression', \n",
    "                            random_seed=42, propen_est=True, mu_est=True, stds_return=True, coverage_return=False)\n",
    "\n",
    "\n",
    "print('ate: ', ate_results)\n",
    "print('std: ', std_results)"
   ]
  },
  {
   "cell_type": "code",
   "execution_count": null,
   "metadata": {},
   "outputs": [
    {
     "name": "stdout",
     "output_type": "stream",
     "text": [
      "ate:  {'true_ate': 0, 'ate_tmle': 3.1516283907989475, 'ate_ctmle': 3.8997916698282187, 'ate_cbps': 4.701750453319766, 'ate_mr': 4.369658190618651, 'ate_ipw': 3.8994489878182974, 'ate_amr': 3.5622129570080103, 'ate_aipw': 3.1440033889535304, 'ate_siaipw': 229.79694288170015, 'ate_sioapw': 229.85193950115953, 'ate_siobpw': 229.85047439175028}\n",
      "std:  {'std_tmle': 1.768828081156364, 'std_ctmle': 1.5738015769044262, 'std_cbps': 2.181562080950062, 'std_mr': 9.185053902530791, 'std_ipw': 9.185051891220816, 'std_amr': 1.7712203418985037, 'std_aipw': 1.771212091123031, 'std_siaipw': 223.0890700748985, 'std_sioapw': 114.07131718709299, 'std_siobpw': 114.05922133441848}\n"
     ]
    }
   ],
   "source": [
    "ate_results, std_results,df_est = estimation(p=61, df=df, ate=0, #placeholder\n",
    "                          cross_fit=True, n_folds=5, ps_model='lr',or_model='lr',\n",
    "                          w_model='kernel_ridge_regression', \n",
    "                            random_seed=42, propen_est=True, mu_est=True, stds_return=True, coverage_return=False)\n",
    "\n",
    "print('ate: ', ate_results)\n",
    "print('std: ', std_results)"
   ]
  },
  {
   "cell_type": "code",
   "execution_count": 20,
   "metadata": {},
   "outputs": [
    {
     "data": {
      "image/png": "[encoded data removed]",
      "text/plain": [
       "<Figure size 1000x600 with 1 Axes>"
      ]
     },
     "metadata": {},
     "output_type": "display_data"
    }
   ],
   "source": [
    "import matplotlib.pyplot as plt\n",
    "plt.figure(figsize=(10, 6))\n",
    "# Plot the histogram with a fancier color (e.g., lightblue) and add a black edge to each bin\n",
    "plt.hist(df_est['hat_propen'], bins=30, color='lightblue', edgecolor='white', density = True)\n",
    "\n",
    "# Add the x and y labels\n",
    "plt.xlabel('Estimated Propensity Score')\n",
    "plt.ylabel('Density')\n",
    "\n",
    "# Add a LaTeX-formatted title (you can also use 'coral' for a different color)\n",
    "plt.title('Density of Estimated Propensity Score, News Data')\n",
    "\n",
    "# Display the plot\n",
    "plt.show()"
   ]
  },
  {
   "cell_type": "code",
   "execution_count": 17,
   "metadata": {},
   "outputs": [
    {
     "name": "stdout",
     "output_type": "stream",
     "text": [
      "Results saved to results/nhanes/ate_bmi_lr_5000.joblib\n",
      "Results saved to results/nhanes/std_bmi_lr_5000.joblib\n",
      "ate:  {'true_ate': 0, 'ate_tmle': 0.010115179080809326, 'ate_ctmle': -0.00034120528394776826, 'ate_cbps': -0.0020300010280613497, 'ate_mr': -0.0024693971219731372, 'ate_ipw': -0.002222246911950674, 'ate_amr': -0.00021734129650706322, 'ate_aipw': 0.01304293084368127, 'ate_siaipw': 0.0003185157948277139, 'ate_sioapw': 0.0011420082334251862, 'ate_siobpw': 0.00042376858773825334}\n",
      "std:  {'std_tmle': 0.009370277426114477, 'std_ctmle': 0.006419858861126274, 'std_cbps': 0.008571739762232553, 'std_mr': 0.008050839697253601, 'std_ipw': 0.008050838938383086, 'std_amr': 0.010180315056381605, 'std_aipw': 0.010178587360186299, 'std_siaipw': 0.6706907808854232, 'std_sioapw': 0.441051378566244, 'std_siobpw': 0.45541523222288577}\n"
     ]
    }
   ],
   "source": [
    "# sampled_df = df.sample(n=8000, replace=False,random_state=42)\n",
    "sampled_df = df.sample(n=5000, replace=False,random_state=42)\n",
    "ate_results, std_results,df_est = estimation(p=62, df=sampled_df, ate=0, #placeholder\n",
    "                          cross_fit=True, n_folds=5, ps_model='lr',or_model='torch_nn',\n",
    "                          w_model='kernel_ridge_regression', \n",
    "                            random_seed=42, propen_est=True, mu_est=True, stds_return=True, coverage_return=False)\n",
    "\n",
    "ate_output_file = \"results/nhanes/ate_bmi_lr_5000.joblib\"\n",
    "std_output_file = \"results/nhanes/std_bmi_lr_5000.joblib\"\n",
    "os.makedirs(os.path.dirname(ate_output_file), exist_ok=True)\n",
    "os.makedirs(os.path.dirname(std_output_file), exist_ok=True)\n",
    "dump(ate_results, ate_output_file)\n",
    "print(f\"Results saved to {ate_output_file}\")\n",
    "dump(std_results, std_output_file)\n",
    "print(f\"Results saved to {std_output_file}\")\n",
    "print('ate: ', ate_results)\n",
    "print('std: ', std_results)"
   ]
  },
  {
   "cell_type": "code",
   "execution_count": 16,
   "metadata": {},
   "outputs": [
    {
     "name": "stdout",
     "output_type": "stream",
     "text": [
      "Results saved to results/nhanes/ate_bmi_lr.joblib\n",
      "Results saved to results/nhanes/std_bmi_lr.joblib\n",
      "ate:  {'true_ate': 0, 'ate_tmle': 0.0037218725102642217, 'ate_ctmle': 0.005599520253479686, 'ate_cbps': 0.00465745899757056, 'ate_mr': 0.0012978344127427426, 'ate_ipw': 0.002518636669344157, 'ate_amr': 0.006566639765068744, 'ate_aipw': 0.003576774683710785, 'ate_siaipw': 0.007207850852827924, 'ate_sioapw': 0.00534964569572897, 'ate_siobpw': 0.0047404352008982445}\n",
      "std:  {'std_tmle': 0.004748660340792959, 'std_ctmle': 0.0038322728900182816, 'std_cbps': 1.997387672503704, 'std_mr': 0.004438409361372941, 'std_ipw': 0.004438397590111936, 'std_amr': 0.0047857780289706775, 'std_aipw': 0.004785712548359552, 'std_siaipw': 0.507122292891237, 'std_sioapw': 0.4314354479793403, 'std_siobpw': 0.44653530996558594}\n"
     ]
    }
   ],
   "source": [
    "# sampled_df = df.sample(n=8000, replace=False,random_state=42)\n",
    "sampled_df = df.sample(n=5000, replace=False,random_state=42)\n",
    "ate_results, std_results,df_est = estimation(p=62, df=df, ate=0, #placeholder\n",
    "                          cross_fit=True, n_folds=5, ps_model='lr',or_model='torch_nn',\n",
    "                          w_model='kernel_ridge_regression', \n",
    "                            random_seed=42, propen_est=True, mu_est=True, stds_return=True, coverage_return=False)\n",
    "\n",
    "ate_output_file = \"results/nhanes/ate_bmi_lr.joblib\"\n",
    "std_output_file = \"results/nhanes/std_bmi_lr.joblib\"\n",
    "os.makedirs(os.path.dirname(ate_output_file), exist_ok=True)\n",
    "os.makedirs(os.path.dirname(std_output_file), exist_ok=True)\n",
    "dump(ate_results, ate_output_file)\n",
    "print(f\"Results saved to {ate_output_file}\")\n",
    "dump(std_results, std_output_file)\n",
    "print(f\"Results saved to {std_output_file}\")\n",
    "print('ate: ', ate_results)\n",
    "print('std: ', std_results)"
   ]
  },
  {
   "cell_type": "code",
   "execution_count": 18,
   "metadata": {},
   "outputs": [
    {
     "name": "stdout",
     "output_type": "stream",
     "text": [
      "Results saved to results/nhanes/ate_bmi_nn_5000.joblib\n",
      "Results saved to results/nhanes/std_bmi_nn_5000.joblib\n",
      "ate:  {'true_ate': 0, 'ate_tmle': 0.05852249014263403, 'ate_ctmle': -0.00034120528394776826, 'ate_cbps': -0.0020300010280613497, 'ate_mr': -0.003414940807441921, 'ate_ipw': 0.1278494972654901, 'ate_amr': -0.0036471582401225093, 'ate_aipw': 0.11027748120492277, 'ate_siaipw': 0.0003185157948277139, 'ate_sioapw': 0.0011420082334251862, 'ate_siobpw': 0.00042376858773825334}\n",
      "std:  {'std_tmle': 0.028044623453560874, 'std_ctmle': 0.006419858861126274, 'std_cbps': 0.008571739762232553, 'std_mr': 0.05072404825770206, 'std_ipw': 0.05069006127198095, 'std_amr': 0.10523728784646616, 'std_aipw': 0.10522495174305681, 'std_siaipw': 0.6706907808854232, 'std_sioapw': 0.441051378566244, 'std_siobpw': 0.45541523222288577}\n"
     ]
    }
   ],
   "source": [
    "# sampled_df = df.sample(n=8000, replace=False,random_state=42)\n",
    "sampled_df = df.sample(n=5000, replace=False,random_state=42)\n",
    "ate_results, std_results,df_est = estimation(p=62, df=sampled_df, ate=0, #placeholder\n",
    "                          cross_fit=True, n_folds=5, ps_model='torch_nn',or_model='torch_nn',\n",
    "                          w_model='kernel_ridge_regression', \n",
    "                            random_seed=42, propen_est=True, mu_est=True, stds_return=True, coverage_return=False)\n",
    "\n",
    "ate_output_file = \"results/nhanes/ate_bmi_nn_5000.joblib\"\n",
    "std_output_file = \"results/nhanes/std_bmi_nn_5000.joblib\"\n",
    "os.makedirs(os.path.dirname(ate_output_file), exist_ok=True)\n",
    "os.makedirs(os.path.dirname(std_output_file), exist_ok=True)\n",
    "dump(ate_results, ate_output_file)\n",
    "print(f\"Results saved to {ate_output_file}\")\n",
    "dump(std_results, std_output_file)\n",
    "print(f\"Results saved to {std_output_file}\")\n",
    "print('ate: ', ate_results)\n",
    "print('std: ', std_results)"
   ]
  },
  {
   "cell_type": "code",
   "execution_count": 17,
   "metadata": {},
   "outputs": [
    {
     "name": "stdout",
     "output_type": "stream",
     "text": [
      "Results saved to results/nhanes/ate_bmi_rf.joblib\n",
      "Results saved to results/nhanes/std_bmi_rf.joblib\n",
      "ate:  {'true_ate': 0, 'ate_tmle': 0.006221108059653869, 'ate_ctmle': 0.005599520253479686, 'ate_cbps': 0.00465745899757056, 'ate_mr': 0.0012978344127427426, 'ate_ipw': 0.002518636669344157, 'ate_amr': 0.012740458417697676, 'ate_aipw': 0.006267492280971145, 'ate_siaipw': 0.0076215819607599435, 'ate_sioapw': 0.0043533587186969265, 'ate_siobpw': 0.0032774182566774755}\n",
      "std:  {'std_tmle': 0.004083953594194095, 'std_ctmle': 0.0038322728900182816, 'std_cbps': 1.997387672503704, 'std_mr': 0.004438409361372941, 'std_ipw': 0.004438397590111936, 'std_amr': 0.004085496064819002, 'std_aipw': 0.00408513653070389, 'std_siaipw': 0.5068359204588361, 'std_sioapw': 0.4264316519064298, 'std_siobpw': 0.4494696532240491}\n"
     ]
    }
   ],
   "source": [
    "# sampled_df = df.sample(n=8000, replace=False,random_state=42)\n",
    "sampled_df = df.sample(n=5000, replace=False,random_state=42)\n",
    "ate_results, std_results,df_est = estimation(p=62, df=df, ate=0, #placeholder\n",
    "                          cross_fit=True, n_folds=5, ps_model='lr',or_model='rf',\n",
    "                          w_model='kernel_ridge_regression', \n",
    "                            random_seed=42, propen_est=True, mu_est=True, stds_return=True, coverage_return=False)\n",
    "\n",
    "ate_output_file = \"results/nhanes/ate_bmi_rf.joblib\"\n",
    "std_output_file = \"results/nhanes/std_bmi_rf.joblib\"\n",
    "os.makedirs(os.path.dirname(ate_output_file), exist_ok=True)\n",
    "os.makedirs(os.path.dirname(std_output_file), exist_ok=True)\n",
    "dump(ate_results, ate_output_file)\n",
    "print(f\"Results saved to {ate_output_file}\")\n",
    "dump(std_results, std_output_file)\n",
    "print(f\"Results saved to {std_output_file}\")\n",
    "print('ate: ', ate_results)\n",
    "print('std: ', std_results)"
   ]
  },
  {
   "cell_type": "code",
   "execution_count": null,
   "metadata": {},
   "outputs": [
    {
     "name": "stdout",
     "output_type": "stream",
     "text": [
      "Results saved to results/nhanes/ate_bmi_nn.joblib\n",
      "Results saved to results/nhanes/std_bmi_nn.joblib\n",
      "ate:  {'true_ate': 0, 'ate_tmle': -0.04855748276482778, 'ate_ctmle': 0.0062321197862727, 'ate_cbps': 0.007428022625436189, 'ate_mr': 0.004499103526017387, 'ate_ipw': 0.023124974867759777, 'ate_amr': 0.007913763226928213, 'ate_aipw': -0.09638632232019816, 'ate_siaipw': 0.008826414632555239, 'ate_sioapw': 0.005180263256863319, 'ate_siobpw': 0.003409013084137638}\n",
      "std:  {'std_tmle': 0.01545842462973984, 'std_ctmle': 0.003914007362444813, 'std_cbps': 0.005338522470176181, 'std_mr': 0.014797064518779369, 'std_ipw': 0.014796220102295286, 'std_amr': 0.05507043845300308, 'std_aipw': 0.05506332360656406, 'std_siaipw': 0.5214958202397713, 'std_sioapw': 0.4334308232449892, 'std_siobpw': 0.4623418339735471}\n"
     ]
    }
   ],
   "source": [
    "# sampled_df = df.sample(n=8000, replace=False,random_state=42)\n",
    "\n",
    "ate_results, std_results,df_est = estimation(p=52, df=df, ate=0, #placeholder\n",
    "                          cross_fit=True, n_folds=5, ps_model='torch_nn',or_model='torch_nn',\n",
    "                          w_model='kernel_ridge_regression', \n",
    "                            random_seed=42, propen_est=True, mu_est=True, stds_return=True, coverage_return=False)\n",
    "\n",
    "ate_output_file = \"results/nhanes/ate_bmi_nn.joblib\"\n",
    "std_output_file = \"results/nhanes/std_bmi_nn.joblib\"\n",
    "os.makedirs(os.path.dirname(ate_output_file), exist_ok=True)\n",
    "os.makedirs(os.path.dirname(std_output_file), exist_ok=True)\n",
    "dump(ate_results, ate_output_file)\n",
    "print(f\"Results saved to {ate_output_file}\")\n",
    "dump(std_results, std_output_file)\n",
    "print(f\"Results saved to {std_output_file}\")\n",
    "print('ate: ', ate_results)                 \n",
    "print('std: ', std_results)"
   ]
  }
 ],
 "metadata": {
  "kernelspec": {
   "display_name": "base",
   "language": "python",
   "name": "python3"
  },
  "language_info": {
   "codemirror_mode": {
    "name": "ipython",
    "version": 3
   },
   "file_extension": ".py",
   "mimetype": "text/x-python",
   "name": "python",
   "nbconvert_exporter": "python",
   "pygments_lexer": "ipython3",
   "version": "3.11.7"
  }
 },
 "nbformat": 4,
 "nbformat_minor": 2
}
